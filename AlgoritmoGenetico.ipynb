{
  "nbformat": 4,
  "nbformat_minor": 0,
  "metadata": {
    "colab": {
      "name": "AlgoritmoGenetico.ipynb",
      "provenance": [],
      "collapsed_sections": [],
      "authorship_tag": "ABX9TyMSZwVjVsC1u4pJVbTAEyx1",
      "include_colab_link": true
    },
    "kernelspec": {
      "name": "python3",
      "display_name": "Python 3"
    },
    "language_info": {
      "name": "python"
    }
  },
  "cells": [
    {
      "cell_type": "markdown",
      "metadata": {
        "id": "view-in-github",
        "colab_type": "text"
      },
      "source": [
        "<a href=\"https://colab.research.google.com/github/raissa-coelho/treinamento-h2ia/blob/main/AlgoritmoGenetico.ipynb\" target=\"_parent\"><img src=\"https://colab.research.google.com/assets/colab-badge.svg\" alt=\"Open In Colab\"/></a>"
      ]
    },
    {
      "cell_type": "markdown",
      "source": [
        "# Algoritmo Genético"
      ],
      "metadata": {
        "id": "P_j16mfkcdhm"
      }
    },
    {
      "cell_type": "markdown",
      "source": [
        "O problema da mochila : <br>\n",
        "\n",
        "![image.png](data:image/png;base64,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)"
      ],
      "metadata": {
        "id": "FoYaZhIXcKQX"
      }
    },
    {
      "cell_type": "code",
      "source": [
        "import numpy as np\n",
        "import random as rd\n",
        "from random import randint\n",
        "\n",
        "def fit(peso, valor, populacao, limite):\n",
        "    fitness = np.empty(populacao.shape[0])\n",
        "    for i in range(populacao.shape[0]):\n",
        "        v = np.sum(populacao[i]*valor)\n",
        "        p = np.sum(populacao[i]*peso)\n",
        "        if p <= limite:\n",
        "            fitness[i] = v\n",
        "        else:\n",
        "            fitness[i] = 0\n",
        "    return fitness.astype(int)\n",
        "\n",
        "def melhores(fitness, pais, populacao):\n",
        "    fitness = list(fitness)\n",
        "    p = np.empty((pais, populacao.shape[1]))\n",
        "    for i in range(pais):\n",
        "        fit_max = np.where(fitness == np.max(fitness))\n",
        "        p[i,:] = populacao[fit_max[0][0], :]\n",
        "        fitness[fit_max[0][0]] = -9999\n",
        "    return p\n",
        "\n",
        "def crossover(pais, filhos):\n",
        "    f = np.empty((filhos, pais.shape[1]))\n",
        "    ponto_c = int(pais.shape[1]/2)\n",
        "    rate = 0.7\n",
        "    i = 0\n",
        "    while(pais.shape[0] < filhos):\n",
        "        pai1 = i%pais.shape[0]\n",
        "        pai2 = (i+1)%pais.shape[0]\n",
        "        x = rd.random()\n",
        "        if x > rate:\n",
        "            continue\n",
        "        pai1 = i%pais.shape[0]\n",
        "        pai2 = (i+1)%pais.shape[0]\n",
        "        f[i, 0:ponto_c] = pais[pai1,0:ponto_c]\n",
        "        f[i, ponto_c:] = pais[pai2, ponto_c:]\n",
        "        i+=1\n",
        "    return f\n",
        "\n",
        "def mutacao(filhos):\n",
        "    mudados = np.empty((filhos.shape))\n",
        "    rate = 0.5\n",
        "    for i in range(mudados.shape[0]):\n",
        "        random = rd.random()\n",
        "        mudados[i,:] = filhos[i,:]\n",
        "        if random > rate:\n",
        "            continue\n",
        "        random2 = randint(0,filhos.shape[1]-1)\n",
        "        if mudados[i,random2] == 0:\n",
        "            mudados[i,random2] = 1\n",
        "        else:\n",
        "            mudados[i,random2] = 0\n",
        "    return mudados\n",
        "\n",
        "def alg(peso, valor, populacao,limite):\n",
        "    resultado,fitness_total = [], []\n",
        "    n_pais = 8\n",
        "    n_filhos = 2\n",
        "    max_geracao = 100\n",
        "    \n",
        "    for i in range(max_geracao):\n",
        "        fitness = fit(peso,valor,populacao,limite)\n",
        "        fitness_total.append(fitness)\n",
        "        pais = melhores(fitness, n_pais, populacao)\n",
        "        filhos = crossover(pais, n_filhos)\n",
        "        mutacoes = mutacao(filhos)\n",
        "        populacao[0:pais.shape[0], :] = pais\n",
        "        populacao[pais.shape[0]:, :] = mutacoes\n",
        "    \n",
        "    ultima_geracao = fit(peso,valor,populacao,limite)\n",
        "    max_fit = np.where(ultima_geracao == np.max(ultima_geracao))\n",
        "    resultado.append(populacao[max_fit[0][0], :])\n",
        "    return resultado\n",
        "\n",
        "\n",
        "peso = np.array([63,21,2,32,13,80,19,37,56,41,14,8,32,42,7])\n",
        "valor = np.array([13,2,20,10,7,14,7,2,2,4,16,17,17,3,21])\n",
        "mochila_max = 275\n",
        "\n",
        "populacao_inicial = np.random.randint(2, size=(10,15))\n",
        "print(populacao_inicial)\n",
        "resultado = alg(peso,valor,populacao_inicial,mochila_max)\n",
        "print(resultado)"
      ],
      "metadata": {
        "colab": {
          "base_uri": "https://localhost:8080/"
        },
        "id": "GWt3sgW4clWe",
        "outputId": "40ceef84-4437-4bd2-f55b-cdbe4e98ae67"
      },
      "execution_count": 4,
      "outputs": [
        {
          "output_type": "stream",
          "name": "stdout",
          "text": [
            "[[0 0 1 0 0 0 0 0 1 0 0 0 0 1 1]\n",
            " [1 0 1 1 1 0 1 1 1 0 1 0 0 1 0]\n",
            " [1 1 0 0 1 0 0 0 0 0 1 1 0 0 0]\n",
            " [1 0 0 0 1 1 0 1 0 1 1 1 1 1 0]\n",
            " [1 0 0 0 1 1 1 1 0 0 1 1 1 0 1]\n",
            " [0 0 1 0 0 1 1 1 1 0 0 1 1 1 1]\n",
            " [1 0 1 1 1 1 0 1 1 0 1 1 0 0 1]\n",
            " [0 0 0 1 1 0 0 0 1 0 1 1 1 0 1]\n",
            " [1 0 0 0 0 1 1 0 1 1 0 0 0 1 1]\n",
            " [0 1 0 0 1 0 0 1 0 1 0 1 0 0 0]]\n",
            "[array([1, 0, 1, 0, 1, 0, 1, 1, 1, 0, 1, 1, 1, 0, 1])]\n"
          ]
        }
      ]
    }
  ]
}