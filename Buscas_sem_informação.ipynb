{
  "nbformat": 4,
  "nbformat_minor": 0,
  "metadata": {
    "colab": {
      "name": "Cópia de Modelo Relatório - Buscas sem informação.ipynb",
      "provenance": [],
      "collapsed_sections": [],
      "include_colab_link": true
    },
    "kernelspec": {
      "name": "python3",
      "display_name": "Python 3"
    },
    "language_info": {
      "name": "python"
    }
  },
  "cells": [
    {
      "cell_type": "markdown",
      "metadata": {
        "id": "view-in-github",
        "colab_type": "text"
      },
      "source": [
        "<a href=\"https://colab.research.google.com/github/raissa-coelho/treinamento-h2ia/blob/main/Buscas_sem_informa%C3%A7%C3%A3o.ipynb\" target=\"_parent\"><img src=\"https://colab.research.google.com/assets/colab-badge.svg\" alt=\"Open In Colab\"/></a>"
      ]
    },
    {
      "cell_type": "markdown",
      "metadata": {
        "id": "21uUELma0562"
      },
      "source": [
        "# O Problema\n",
        "Sliding Puzzle - Bloco Deslizante"
      ]
    },
    {
      "cell_type": "code",
      "metadata": {
        "colab": {
          "base_uri": "https://localhost:8080/",
          "height": 218
        },
        "id": "duRbJW3rz01L",
        "outputId": "e1049773-9cf4-4b39-e026-e220c566311f"
      },
      "source": [
        "# !wget -qq https://miro.medium.com/max/700/1*W7jg4GmEjGBypd9WPktasQ.gif\n",
        "from IPython.display import Image\n",
        "Image(url='https://miro.medium.com/max/700/1*W7jg4GmEjGBypd9WPktasQ.gif',width=200)"
      ],
      "execution_count": null,
      "outputs": [
        {
          "output_type": "execute_result",
          "data": {
            "text/html": [
              "<img src=\"https://miro.medium.com/max/700/1*W7jg4GmEjGBypd9WPktasQ.gif\" width=\"200\"/>"
            ],
            "text/plain": [
              "<IPython.core.display.Image object>"
            ]
          },
          "metadata": {
            "tags": []
          },
          "execution_count": 5
        }
      ]
    },
    {
      "cell_type": "markdown",
      "metadata": {
        "id": "f6TPxqB-1Cwx"
      },
      "source": [
        "# Resolver o quebra-cabeças usando Buscas"
      ]
    },
    {
      "cell_type": "markdown",
      "metadata": {
        "id": "o6ZClGCC1RxB"
      },
      "source": [
        "## Busca em largura"
      ]
    },
    {
      "cell_type": "code",
      "metadata": {
        "id": "cmJfg8CF0Jwc"
      },
      "source": [
        "from collections import deque\n",
        "import numpy as np\n",
        "import time"
      ],
      "execution_count": 8,
      "outputs": []
    },
    {
      "cell_type": "code",
      "source": [
        "\"\"\" \n",
        "  Troca o valor de zero de lugar\n",
        "  Retorna um novo estado\n",
        "\"\"\"\n",
        "\n",
        "def troca(estado, ant, prox):\n",
        "    novo_estado = list(estado)\n",
        "    novo_estado[ant], novo_estado[prox] = novo_estado[prox], novo_estado[ant]\n",
        "    return \"\".join(novo_estado)\n"
      ],
      "metadata": {
        "id": "GNV8JnLHM_QY"
      },
      "execution_count": 2,
      "outputs": []
    },
    {
      "cell_type": "code",
      "source": [
        "def move(estado):\n",
        "    novo = []\n",
        "\n",
        "    #procura o zero\n",
        "    zero = estado.index('0')\n",
        "\n",
        "    if zero not in (0,1,2): #move para cima\n",
        "        novo.append(troca(estado, zero, zero -3))\n",
        "    if zero not in (6,7,8): #move para baixo\n",
        "        novo.append(troca(estado, zero, zero + 3))\n",
        "        \n",
        "    if zero not in (0,3,6): # move para esquerda\n",
        "        novo.append(troca(estado, zero, zero -1))\n",
        "    if zero not in (2,5,8): #move para direita\n",
        "        novo.append(troca(estado, zero, zero +1))\n",
        "\n",
        "    return novo"
      ],
      "metadata": {
        "id": "k_8cRkTaNAu_"
      },
      "execution_count": 3,
      "outputs": []
    },
    {
      "cell_type": "code",
      "source": [
        "def bfs(inicio, goal):\n",
        "    q = deque()\n",
        "    q.append(inicio)\n",
        "\n",
        "    visitou = {inicio : None}\n",
        "\n",
        "    while q:\n",
        "        estado_atual = q.popleft()\n",
        "\n",
        "        if estado_atual == goal:\n",
        "            imprimir(estado_atual)\n",
        "\n",
        "        for vizinho in move(estado_atual):\n",
        "            if vizinho not in visitou:\n",
        "                visitou[vizinho] = estado_atual\n",
        "                q.append(vizinho)\n",
        "\n",
        "    return visitou"
      ],
      "metadata": {
        "id": "UevqO92ONDF3"
      },
      "execution_count": 4,
      "outputs": []
    },
    {
      "cell_type": "code",
      "source": [
        "def teste(estado):\n",
        "    inverter = 0\n",
        "    for i in range(len(estado) -1):\n",
        "        if estado[i] != '0':\n",
        "            for j in range(i + 1, len(estado)):\n",
        "                if estado[j] != '0' and estado[i] > estado[j]:\n",
        "                    inverter +=1\n",
        "    \n",
        "    if inverter%2 != 0:\n",
        "        return False"
      ],
      "metadata": {
        "id": "37pPPpGqNGJ2"
      },
      "execution_count": 5,
      "outputs": []
    },
    {
      "cell_type": "code",
      "source": [
        "def imprimir(estado):\n",
        "    print(\"Solucionado. Final: \")\n",
        "    p = list(estado)\n",
        "    p2 = []\n",
        "    while p != []:\n",
        "        p2.append(p[:3])\n",
        "        p = p[3:]\n",
        "    p3 = np.array(p2)\n",
        "    print(p3.reshape(3,3))"
      ],
      "metadata": {
        "id": "ty1A1bKtNIO3"
      },
      "execution_count": 6,
      "outputs": []
    },
    {
      "cell_type": "code",
      "source": [
        "def main():\n",
        "    comeco = time.time()\n",
        "\n",
        "    #puzzle = '812043765' -- não tem solucão\n",
        "    puzzle = '562013874'\n",
        "    goal = '123456780'\n",
        "\n",
        "    if teste(puzzle) == False:\n",
        "        print(\" Não pode ser solucionado. \")\n",
        "    else:\n",
        "        print(\"Puzzle Original: \")\n",
        "        p = list(puzzle)\n",
        "        p2 = []\n",
        "        while p != []:\n",
        "            p2.append(p[:3])\n",
        "            p = p[3:]\n",
        "        p3 = np.array(p2)\n",
        "        print(p3.reshape(3,3))\n",
        "        print(\"-------------\")\n",
        "\n",
        "        estado = bfs(puzzle, goal)\n",
        "\n",
        "    fim = time.time()\n",
        "    print(\"tempo: \", round(fim-comeco, 2))\n",
        "\n",
        "if __name__ == '__main__':\n",
        "    main()"
      ],
      "metadata": {
        "colab": {
          "base_uri": "https://localhost:8080/"
        },
        "id": "87rVpNGWNPRO",
        "outputId": "d14c2909-eab3-4992-bb2c-d7cad8ac254d"
      },
      "execution_count": 7,
      "outputs": [
        {
          "output_type": "stream",
          "name": "stdout",
          "text": [
            "Puzzle Original: \n",
            "[['5' '6' '2']\n",
            " ['0' '1' '3']\n",
            " ['8' '7' '4']]\n",
            "-------------\n",
            "Solucionado. Final: \n",
            "[['1' '2' '3']\n",
            " ['4' '5' '6']\n",
            " ['7' '8' '0']]\n",
            "9\n",
            "181440\n",
            "tempo:  0.68\n"
          ]
        }
      ]
    },
    {
      "cell_type": "markdown",
      "metadata": {
        "id": "zCCoey-J1U5t"
      },
      "source": [
        "## Busca em Profundidade"
      ]
    },
    {
      "cell_type": "code",
      "metadata": {
        "id": "XJkS_j3m8A4x"
      },
      "source": [
        "from collections import deque\n",
        "import numpy as np\n",
        "import time"
      ],
      "execution_count": null,
      "outputs": []
    },
    {
      "cell_type": "code",
      "source": [
        "def troca(estado, ant, prox):\n",
        "    novo_estado = list(estado)\n",
        "    novo_estado[ant], novo_estado[prox] = novo_estado[prox], novo_estado[ant]\n",
        "    return \"\".join(novo_estado)"
      ],
      "metadata": {
        "id": "Nrg_NfDoJAzZ"
      },
      "execution_count": null,
      "outputs": []
    },
    {
      "cell_type": "code",
      "source": [
        "def expandeNos(estado):\n",
        "    novo = []\n",
        "\n",
        "    #procura o zero\n",
        "    zero = estado.index('0')\n",
        "\n",
        "    if zero not in (0,1,2): #move para cima\n",
        "        novo.append(troca(estado, zero, zero -3))\n",
        "    if zero not in (0,3,6): # move para esquerda\n",
        "        novo.append(troca(estado, zero, zero -1))\n",
        "    if zero not in (2,5,8): #move para direita\n",
        "        novo.append(troca(estado, zero, zero +1))\n",
        "    if zero not in (6,7,8): #move para baixo\n",
        "        novo.append(troca(estado, zero, zero + 3))\n",
        "\n",
        "    return novo"
      ],
      "metadata": {
        "id": "VRCPTlA4JDQB"
      },
      "execution_count": null,
      "outputs": []
    },
    {
      "cell_type": "code",
      "source": [
        "def dfs(start, goal):\n",
        "    q = [start] #pilha\n",
        "    visitou = {start: None}\n",
        "\n",
        "    while q:\n",
        "        estado_atual = q.pop()\n",
        "        if estado_atual == goal:\n",
        "            imprimir(estado_atual)\n",
        "        for vizinho in expandeNos(estado_atual):\n",
        "            if vizinho not in visitou:\n",
        "                visitou[vizinho] = estado_atual\n",
        "                q.append(vizinho)\n",
        "    return visitou"
      ],
      "metadata": {
        "id": "vFj7fSBdJFsJ"
      },
      "execution_count": null,
      "outputs": []
    },
    {
      "cell_type": "code",
      "source": [
        "def teste(estado):\n",
        "    inverter = 0\n",
        "    for i in range(len(estado) -1):\n",
        "        if estado[i] != '0':\n",
        "            for j in range(i + 1, len(estado)):\n",
        "                if estado[j] != '0' and estado[i] > estado[j]:\n",
        "                    inverter +=1\n",
        "    \n",
        "    if inverter%2 != 0:\n",
        "        return False"
      ],
      "metadata": {
        "id": "g2InkqPKJHpJ"
      },
      "execution_count": null,
      "outputs": []
    },
    {
      "cell_type": "code",
      "source": [
        "def imprimir(estado):\n",
        "    print(\"Solucionado. Final: \")\n",
        "    p = list(estado)\n",
        "    p2 = []\n",
        "    while p != []:\n",
        "        p2.append(p[:3])\n",
        "        p = p[3:]\n",
        "    p3 = np.array(p2)\n",
        "    print(p3.reshape(3,3))"
      ],
      "metadata": {
        "id": "8aP1cHyKJJpo"
      },
      "execution_count": null,
      "outputs": []
    },
    {
      "cell_type": "code",
      "source": [
        "def main():\n",
        "    comeco = time.time()\n",
        "\n",
        "    #puzzle = '812043765' -- não tem solucão\n",
        "    puzzle = '562013874'\n",
        "    goal = '123456780'\n",
        "\n",
        "    if teste(puzzle) == False:\n",
        "        print(\" Não pode ser solucionado. \")\n",
        "    else:\n",
        "        print(\"Puzzle Original: \")\n",
        "        p = list(puzzle)\n",
        "        p2 = []\n",
        "        while p != []:\n",
        "            p2.append(p[:3])\n",
        "            p = p[3:]\n",
        "        p3 = np.array(p2)\n",
        "        print(p3.reshape(3,3))\n",
        "        print(\"-------------\")\n",
        "\n",
        "        estado = dfs(puzzle, goal)\n",
        "\n",
        "    fim = time.time()\n",
        "    print(\"tempo: \", round(fim-comeco, 2))\n",
        "\n",
        "if __name__ == '__main__':\n",
        "    main()"
      ],
      "metadata": {
        "colab": {
          "base_uri": "https://localhost:8080/"
        },
        "id": "bW5QnIvfJO1I",
        "outputId": "162c9fbd-6be6-40dc-dd26-be6b4a178251"
      },
      "execution_count": null,
      "outputs": [
        {
          "output_type": "stream",
          "name": "stdout",
          "text": [
            "Puzzle Original: \n",
            "[['5' '6' '2']\n",
            " ['0' '1' '3']\n",
            " ['8' '7' '4']]\n",
            "-------------\n",
            "Solucionado. Final: \n",
            "[['1' '2' '3']\n",
            " ['4' '5' '6']\n",
            " ['7' '8' '0']]\n",
            "tempo:  0.71\n"
          ]
        }
      ]
    },
    {
      "cell_type": "markdown",
      "metadata": {
        "id": "rXU5HkCd1ZPu"
      },
      "source": [
        "## Discorra sobre o desempenho dos métodos em questões de:\n",
        "\n",
        "\n",
        "1.   Consumo de memória\n",
        "2.   Processamento\n",
        "\n"
      ]
    },
    {
      "cell_type": "markdown",
      "source": [
        " ### Busca em largura(BFS)\n",
        "  \n",
        "\n",
        " ### Busca em profundidade(DFS)"
      ],
      "metadata": {
        "id": "-PLjPuqjmHLw"
      }
    }
  ]
}