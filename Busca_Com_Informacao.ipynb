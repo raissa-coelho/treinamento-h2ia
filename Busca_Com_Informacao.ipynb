{
  "nbformat": 4,
  "nbformat_minor": 0,
  "metadata": {
    "colab": {
      "name": "Busca Com Informacao.ipynb",
      "provenance": [],
      "collapsed_sections": [],
      "authorship_tag": "ABX9TyM4UB3fBFYDvFD43gVsgcS+",
      "include_colab_link": true
    },
    "kernelspec": {
      "name": "python3",
      "display_name": "Python 3"
    },
    "language_info": {
      "name": "python"
    }
  },
  "cells": [
    {
      "cell_type": "markdown",
      "metadata": {
        "id": "view-in-github",
        "colab_type": "text"
      },
      "source": [
        "<a href=\"https://colab.research.google.com/github/raissa-coelho/treinamento-h2ia/blob/main/Busca_Com_Informacao.ipynb\" target=\"_parent\"><img src=\"https://colab.research.google.com/assets/colab-badge.svg\" alt=\"Open In Colab\"/></a>"
      ]
    },
    {
      "cell_type": "markdown",
      "metadata": {
        "id": "21uUELma0562"
      },
      "source": [
        "# O Problema\n",
        "Sliding Puzzle - Bloco Deslizante"
      ]
    },
    {
      "cell_type": "code",
      "metadata": {
        "colab": {
          "base_uri": "https://localhost:8080/",
          "height": 218
        },
        "id": "duRbJW3rz01L",
        "outputId": "e1049773-9cf4-4b39-e026-e220c566311f"
      },
      "source": [
        "# !wget -qq https://miro.medium.com/max/700/1*W7jg4GmEjGBypd9WPktasQ.gif\n",
        "from IPython.display import Image\n",
        "Image(url='https://miro.medium.com/max/700/1*W7jg4GmEjGBypd9WPktasQ.gif',width=200)"
      ],
      "execution_count": null,
      "outputs": [
        {
          "output_type": "execute_result",
          "data": {
            "text/html": [
              "<img src=\"https://miro.medium.com/max/700/1*W7jg4GmEjGBypd9WPktasQ.gif\" width=\"200\"/>"
            ],
            "text/plain": [
              "<IPython.core.display.Image object>"
            ]
          },
          "metadata": {
            "tags": []
          },
          "execution_count": 5
        }
      ]
    },
    {
      "cell_type": "markdown",
      "metadata": {
        "id": "f6TPxqB-1Cwx"
      },
      "source": [
        "# Resolver o quebra-cabeças usando Buscas"
      ]
    },
    {
      "cell_type": "markdown",
      "source": [
        "## Algoritmo A*"
      ],
      "metadata": {
        "id": "9RfEg85mLaBB"
      }
    },
    {
      "cell_type": "code",
      "source": [
        "#A* - algoritmo completo //\n",
        "\n",
        "def sol(cube, step):\n",
        "    answer = [[int(cube[0]),int(cube[1]),int(cube[2])],[int(cube[3]), int(cube[4]), int(cube[5])], [int(cube[6]), int(cube[7]), int(cube[8])] ]\n",
        "    print(answer)\n",
        "    print(\"Movimentos: \", step)\n",
        "\n",
        "def heuristic(estado, g):\n",
        "    diff = 0\n",
        "    for x in range(9):\n",
        "        distancia = 0\n",
        "        if (estado[x]!=0):\n",
        "            distancia = abs((int(estado[x])-1)%3 - x%3) + abs((int(estado[x])-1)//3 - x//3)\n",
        "        diff=diff+ distancia\n",
        "    print(f'Fn de {estado} = {diff}')\n",
        "    return diff\n",
        "\n",
        "def filhos(estado):\n",
        "    sons = []\n",
        "    zero = estado.find(\"0\")\n",
        "\n",
        "    #para cima\n",
        "    s1 = list(estado)\n",
        "    if zero > 2:\n",
        "        s1[zero], s1[zero-3] = s1[zero-3], s1[zero]\n",
        "        sons.append(\"\".join(s1))\n",
        "    \n",
        "    #para baixo\n",
        "    s2 = list(estado)\n",
        "    if zero < 6:\n",
        "        s2[zero], s2[zero+3] = s2[zero+3], s2[zero]\n",
        "        sons.append(\"\".join(s2))\n",
        "\n",
        "    #esquerda\n",
        "    s3 = list(estado)\n",
        "    if (zero + 1) % 3 != 1:\n",
        "        s3[zero], s3[zero-1] = s3[zero-1], s3[zero]\n",
        "        sons.append(\"\".join(s3))\n",
        "    \n",
        "    #direita\n",
        "    s4 = list(estado)\n",
        "    if (zero + 1) % 3 != 0:\n",
        "        s4[zero], s4[zero+1] = s4[zero+1], s4[zero]\n",
        "        sons.append(\"\".join(s4))\n",
        "\n",
        "    return sons\n",
        "\n",
        "\n",
        "def aStart(estado,profundidade,step):\n",
        "        #closed = []\n",
        "        abertos = []\n",
        "        fn = [0,0,0,0]\n",
        "\n",
        "        if estado == \"123456780\":\n",
        "            return sol(estado, step)\n",
        "        print(\"E:\", estado, \"step: \", step)\n",
        "\n",
        "        j = 0\n",
        "        for i in filhos(estado):\n",
        "            abertos.append(i)\n",
        "            fn[j] = heuristic(i,profundidade)\n",
        "            j+=1\n",
        "\n",
        "        print(f'ABERTOS: {abertos}')\n",
        "        print(f'PROFUNDIDADE: {profundidade}')\n",
        "        temp = fn[0]\n",
        "        temp2 = 0\n",
        "        for k in range(len(abertos)):\n",
        "            if fn[k] < temp:\n",
        "                temp = fn[k]\n",
        "                temp2 = k\n",
        "            \n",
        "        prox = abertos[temp2]\n",
        "        if prox not in closed:\n",
        "            closed.append(prox)\n",
        "            profundidade+=1\n",
        "            step+=1\n",
        "            abertos.clear()\n",
        "            fn.clear()\n",
        "            return aStart(prox, profundidade, step)\n",
        "\n",
        "closed = []\n",
        "cube = [[3, 6, 7], [2, 0, 1], [8, 4, 5]]\n",
        "iniCube = \"\".join(str(c) for c in cube[0] + cube[1] + cube[2])\n",
        "print(iniCube)\n",
        "closed.append(iniCube)\n",
        "aStart(iniCube,1,0)\n",
        "print(\"\\n\")"
      ],
      "metadata": {
        "id": "2yXlYBXRs6Gv"
      },
      "execution_count": null,
      "outputs": []
    }
  ]
}